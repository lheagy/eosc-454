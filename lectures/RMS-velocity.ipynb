{
 "cells": [
  {
   "cell_type": "markdown",
   "id": "73d35f05-c4b4-4a2c-9b1c-84cce43d9877",
   "metadata": {},
   "source": [
    "# Introduction to Inversion "
   ]
  },
  {
   "cell_type": "markdown",
   "id": "48e9b912-928d-4d45-99ee-334a63ec0b18",
   "metadata": {},
   "source": [
    "## RMS and Inverval velocity \n",
    "\n",
    "The RMS velocity is related to the interval velocity via \n",
    "\n",
    "$$V^2_{rms}(t_j) = \\frac{1}{t_j} \\int_0^{t_{max}} v^2_{int}(u) du$$\n",
    "\n",
    "where \n",
    "- $v_{int}$ is the interval velocity \n",
    "- $V^2_{rms}$ is the RMS velocity \n",
    "- $H$ is the heavyside step function \n",
    "- $t$ is time\n",
    "\n",
    "The analytic inverse is given by \n",
    "\n",
    "$$v_{int} = V_{rms}(t) \\left(1 + \\frac{2 t V'_{rms}(t)}{V_{rms}(t)}\\right)^{1/2}$$\n",
    "\n",
    "In order to work with these equations, we will pick a function for $v_{int}$ that we can integrate: \n",
    "\n",
    "$$v_{int} = v_0 + a \\sin(2\\pi f t)$$\n",
    "$$\\quad = v_0 + a \\sin(\\omega t)$$\n",
    "\n",
    "## Goals\n",
    "- figure out what $V_{rms}$ (can use sympy or Wolfram Alpha) \n",
    "- use finite differences to recover $v_{int}$ from $V_{rms}$ \n",
    "- explore principles of non-uniqueness for this problem \n"
   ]
  },
  {
   "cell_type": "code",
   "execution_count": null,
   "id": "4d7ffaf1-c339-48f2-a3f8-65e7b062070c",
   "metadata": {},
   "outputs": [],
   "source": []
  }
 ],
 "metadata": {
  "kernelspec": {
   "display_name": "Python 3 (ipykernel)",
   "language": "python",
   "name": "python3"
  },
  "language_info": {
   "codemirror_mode": {
    "name": "ipython",
    "version": 3
   },
   "file_extension": ".py",
   "mimetype": "text/x-python",
   "name": "python",
   "nbconvert_exporter": "python",
   "pygments_lexer": "ipython3",
   "version": "3.10.8"
  }
 },
 "nbformat": 4,
 "nbformat_minor": 5
}
