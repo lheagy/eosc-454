{
 "cells": [
  {
   "cell_type": "markdown",
   "id": "ed31d857-417c-45de-a5aa-31fe32a14125",
   "metadata": {},
   "source": [
    "# Exploring forward and inverse problems with DC resistivity \n",
    "\n",
    "This notebook sets up and runs forward simulations and an inversion for a model with two blocks. You can alter the geometry and physical properties of the blocks and explore the impacts on the data and the inversion result"
   ]
  },
  {
   "cell_type": "code",
   "execution_count": null,
   "id": "191e3b41-3e22-4213-bc51-225fa6ac1dc1",
   "metadata": {},
   "outputs": [],
   "source": [
    "# core python \n",
    "import numpy as np\n",
    "import matplotlib.pyplot as plt\n",
    "import ipywidgets\n",
    "\n",
    "# SimPEG inversion machinery\n",
    "from simpeg import maps, utils\n",
    "\n",
    "# linear solver\n",
    "from simpeg.utils.solver_utils import get_default_solver\n",
    "Solver = get_default_solver()\n",
    "\n",
    "# DC resistivity modules\n",
    "from simpeg.electromagnetics import resistivity as dc"
   ]
  },
  {
   "cell_type": "code",
   "execution_count": null,
   "id": "0ce4bb60-8c7c-4fca-a5d3-c128c3708828",
   "metadata": {},
   "outputs": [],
   "source": [
    "from dc_simulation_utils import create_survey, build_mesh, plot_model, plot_data_target_and_background, create_inversion, plot_inversion_results"
   ]
  },
  {
   "cell_type": "markdown",
   "id": "851b7654-b5af-4556-a580-fec7d761b55f",
   "metadata": {},
   "source": [
    "# Define the survey, model and mesh"
   ]
  },
  {
   "cell_type": "code",
   "execution_count": null,
   "id": "426edf35-d70d-4a19-892f-7482e7fc9c70",
   "metadata": {},
   "outputs": [],
   "source": [
    "# Generate source list for DC survey line\n",
    "survey = create_survey(\n",
    "    survey_type=\"dipole-dipole\", \n",
    "    end_points=np.r_[-350.0, 450.0], \n",
    "    station_spacing=50.0, \n",
    "    num_rx_per_src=8,\n",
    ")"
   ]
  },
  {
   "cell_type": "code",
   "execution_count": null,
   "id": "c3715578-5f7b-4a8b-b7e1-2588c94eda01",
   "metadata": {},
   "outputs": [],
   "source": [
    "mesh, core_domain_x, core_domain_z = build_mesh(survey)\n",
    "mesh.plot_grid()"
   ]
  },
  {
   "cell_type": "markdown",
   "id": "1ad1e7c9-bb11-482c-96dc-520773ca79bd",
   "metadata": {},
   "source": [
    "# build our model \n",
    "\n",
    "You can change the physical properties and geometry of the blocks"
   ]
  },
  {
   "cell_type": "code",
   "execution_count": null,
   "id": "70e67711-01c2-4a5b-b83d-89695ffc0bd2",
   "metadata": {},
   "outputs": [],
   "source": [
    "# define the resistivities\n",
    "rho_background = 100\n",
    "rho_resistive_block = 1000\n",
    "rho_conductive_block = 10\n",
    "\n",
    "# define the geometry of each block\n",
    "xlim_resistive_block = np.r_[-200, -90]\n",
    "zlim_resistive_block = np.r_[-100, -50]\n",
    "\n",
    "xlim_conductive_block = np.r_[200, 90]\n",
    "zlim_conductive_block = np.r_[-100, -50]"
   ]
  },
  {
   "cell_type": "code",
   "execution_count": null,
   "id": "9899e521-9358-457c-8495-9630b546c173",
   "metadata": {},
   "outputs": [],
   "source": [
    "background_model = rho_background * np.ones(mesh.nC)\n",
    "resistivity_model = background_model.copy()\n",
    "\n",
    "resistivity_model = utils.model_builder.add_block(\n",
    "    mesh.cell_centers, resistivity_model, \n",
    "    np.r_[xlim_resistive_block.min(), zlim_resistive_block.min()], np.r_[xlim_resistive_block.max(), zlim_resistive_block.max()],\n",
    "    rho_resistive_block\n",
    ")\n",
    "resistivity_model = utils.model_builder.add_block(\n",
    "    mesh.cell_centers, resistivity_model, \n",
    "    np.r_[xlim_conductive_block.min(), zlim_conductive_block.min()], np.r_[xlim_conductive_block.max(), zlim_conductive_block.max()],\n",
    "    rho_conductive_block\n",
    ")"
   ]
  },
  {
   "cell_type": "code",
   "execution_count": null,
   "id": "87ba6f02-7558-4661-91e0-4c547d8e927e",
   "metadata": {},
   "outputs": [],
   "source": [
    "ax = plot_model(mesh, resistivity_model, core_domain_x, core_domain_z)\n",
    "ax.set_ylim(np.r_[-300, 0])"
   ]
  },
  {
   "cell_type": "markdown",
   "id": "94fc4e09-d123-42f7-8488-e88dbfe9b928",
   "metadata": {},
   "source": [
    "## Set up and run simulations"
   ]
  },
  {
   "cell_type": "code",
   "execution_count": null,
   "id": "bc4acb5c-74dd-4eab-bc9d-1a4281e3d1ee",
   "metadata": {},
   "outputs": [],
   "source": [
    "noise_level = 0.03  # noise level that we assign to the data"
   ]
  },
  {
   "cell_type": "code",
   "execution_count": null,
   "id": "9971bce7-6505-47d7-a890-8938e5eb3765",
   "metadata": {},
   "outputs": [],
   "source": [
    "# here, we formulate the simulation in terms of log resistivity\n",
    "# that way, we enforce that resistivity is positive when we get to the inversion\n",
    "\n",
    "simulation_dc = dc.Simulation2DNodal(\n",
    "    mesh, rhoMap=maps.ExpMap(mesh), \n",
    "    survey=survey, solver=Solver, storeJ=True\n",
    ")"
   ]
  },
  {
   "cell_type": "code",
   "execution_count": null,
   "id": "042d67a8-e844-4b5d-ab7a-a06fb300ffc2",
   "metadata": {},
   "outputs": [],
   "source": [
    "# run a simulation for the background data\n",
    "background_data = simulation_dc.make_synthetic_data(\n",
    "    np.log(background_model), relative_error=noise_level, add_noise=True\n",
    ")\n",
    "# run a simulation for the model with 2 blocks\n",
    "target_data = simulation_dc.make_synthetic_data(\n",
    "    np.log(resistivity_model), relative_error=noise_level, add_noise=True\n",
    ")"
   ]
  },
  {
   "cell_type": "code",
   "execution_count": null,
   "id": "fc5de397-4289-41c4-8d99-830cfe284d5b",
   "metadata": {},
   "outputs": [],
   "source": [
    "plot_data_target_and_background(\n",
    "    target_data, background_data\n",
    ")"
   ]
  },
  {
   "cell_type": "markdown",
   "id": "90782f7b-be31-45f0-963d-f8d6b5738f33",
   "metadata": {},
   "source": [
    "# Set up and run the inversion"
   ]
  },
  {
   "cell_type": "code",
   "execution_count": null,
   "id": "9315f890-0a1e-48eb-97b1-dd47aa0cabec",
   "metadata": {},
   "outputs": [],
   "source": [
    "estimated_relative_error = 0.03  # assume 3% uncertainties on the data \n",
    "reference_resistivity = rho_background  # starting and reference model \n",
    "\n",
    "alpha_s=1e-2  # weight for the smallness term in the regularization\n",
    "alpha_x=1  # weight for the smoothness in the x-direction\n",
    "alpha_y=1  # weight for the smoothness in the y-direction"
   ]
  },
  {
   "cell_type": "code",
   "execution_count": null,
   "id": "539205e1-aab4-4f24-b759-3eef566ec341",
   "metadata": {},
   "outputs": [],
   "source": [
    "inv, target_misfit, inversion_log = create_inversion(\n",
    "    simulation_dc,\n",
    "    target_data,\n",
    "    reference_resistivity=reference_resistivity,\n",
    "    relative_error=estimated_relative_error,\n",
    "    alpha_s=alpha_s, \n",
    "    alpha_x=alpha_x, \n",
    "    alpha_y=alpha_y,\n",
    "    maxIter=20,\n",
    "    beta0_ratio=1e2,\n",
    "    beta_cooling_factor=2,\n",
    "    beta_cooling_rate=1,\n",
    ")"
   ]
  },
  {
   "cell_type": "code",
   "execution_count": null,
   "id": "c49d3664-0a86-4616-8cff-a31e7189913a",
   "metadata": {},
   "outputs": [],
   "source": [
    "starting_model = np.log(rho_background) * np.ones(mesh.n_cells)\n",
    "model_recovered = inv.run(starting_model)"
   ]
  },
  {
   "cell_type": "code",
   "execution_count": null,
   "id": "ca8b2524-1ab3-4696-8672-7cb4adc44f9f",
   "metadata": {},
   "outputs": [],
   "source": [
    "maxiter = len(inversion_log.outDict)-1\n",
    "def plot_inversion_results_interactive(iteration):\n",
    "    plot_inversion_results(\n",
    "        simulation_dc, target_data, inversion_log, rho_background, \n",
    "        core_domain_x, core_domain_z, iteration,\n",
    "    );"
   ]
  },
  {
   "cell_type": "code",
   "execution_count": null,
   "id": "f68a627d-af6c-4886-8c07-00d2556eec39",
   "metadata": {},
   "outputs": [],
   "source": [
    "ipywidgets.interact(\n",
    "    plot_inversion_results_interactive,\n",
    "    iteration=ipywidgets.IntSlider(min=1, max=maxiter, value=1)\n",
    ");"
   ]
  },
  {
   "cell_type": "code",
   "execution_count": null,
   "id": "daa7e762-1ecb-4bbe-8d67-d26b88b056d5",
   "metadata": {},
   "outputs": [],
   "source": []
  }
 ],
 "metadata": {
  "kernelspec": {
   "display_name": "Python 3 (ipykernel)",
   "language": "python",
   "name": "python3"
  },
  "language_info": {
   "codemirror_mode": {
    "name": "ipython",
    "version": 3
   },
   "file_extension": ".py",
   "mimetype": "text/x-python",
   "name": "python",
   "nbconvert_exporter": "python",
   "pygments_lexer": "ipython3",
   "version": "3.11.10"
  }
 },
 "nbformat": 4,
 "nbformat_minor": 5
}
